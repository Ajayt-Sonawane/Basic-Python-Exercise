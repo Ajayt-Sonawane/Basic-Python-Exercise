{
 "cells": [
  {
   "cell_type": "code",
   "execution_count": 3,
   "id": "7b27cf14",
   "metadata": {},
   "outputs": [
    {
     "name": "stdout",
     "output_type": "stream",
     "text": [
      "List: [10, 20, 30, 40, 50, 52, 43, 87, 89, 52, 51, 53]\n",
      "Even List: [10, 20, 30, 40, 50, 52, 52]\n",
      "odd list: [43, 87, 89, 51, 53]\n"
     ]
    }
   ],
   "source": [
    "#Find even number and odd number in list\n",
    "\n",
    "l = [10,20,30,40,50,52,43,87,89,52,51,53]\n",
    "even = []\n",
    "odd= []\n",
    "\n",
    "\n",
    "for i in l:\n",
    "    if i%2==0:\n",
    "        even.append(i)\n",
    "    else:\n",
    "        odd.append(i)\n",
    "        \n",
    "print(\"List:\",l)        \n",
    "print(\"Even List:\",even)\n",
    "print(\"odd list:\",odd)"
   ]
  },
  {
   "cell_type": "code",
   "execution_count": 11,
   "id": "c0aa53f3",
   "metadata": {},
   "outputs": [
    {
     "name": "stdout",
     "output_type": "stream",
     "text": [
      "[10, 20, 30, 40, 43, 50, 51, 52, 52, 53, 87, 89]\n"
     ]
    }
   ],
   "source": [
    "# merge to list\n",
    "E = [10, 20, 30, 40, 50, 52, 52]\n",
    "o = [43, 87, 89, 51, 53]\n",
    "\n",
    "\n",
    "new = E+o\n",
    "new.sort()\n",
    "\n",
    "print(new)"
   ]
  },
  {
   "cell_type": "code",
   "execution_count": 15,
   "id": "290c581d",
   "metadata": {},
   "outputs": [
    {
     "name": "stdout",
     "output_type": "stream",
     "text": [
      "Before Sorting [['A', 25], ['B', 5], ['C', 34]]\n",
      "After Sorting [['B', 5], ['A', 25], ['C', 34]]\n"
     ]
    }
   ],
   "source": [
    "#Sort using Second List\n",
    "a =[[\"A\",25],[\"B\",5],[\"C\",34]]\n",
    "\n",
    "print(\"Before Sorting\",a)\n",
    "for i in range(0,len(a)):\n",
    "    for j in range(0,len(a)-i-1):\n",
    "        if(a[j][1]>a[j+1][1]):\n",
    "            temp = a[j]\n",
    "            a[j]=a[j+1]\n",
    "            a[j+1]=temp\n",
    "            \n",
    "            \n",
    "print(\"After Sorting\",a)            "
   ]
  },
  {
   "cell_type": "code",
   "execution_count": 18,
   "id": "70859c72",
   "metadata": {},
   "outputs": [
    {
     "name": "stdout",
     "output_type": "stream",
     "text": [
      "[(10, 100), (14, 196), (15, 225), (16, 256), (63, 3969), (55, 3025)]\n"
     ]
    }
   ],
   "source": [
    "# Create a list of tuples with the first element as the number of second element as square \n",
    "\n",
    "l = [10,14,15,16,63,55]\n",
    "\n",
    "n =[(i,i*i) for i in l]\n",
    "\n",
    "print(n)"
   ]
  },
  {
   "cell_type": "code",
   "execution_count": 19,
   "id": "832b28b2",
   "metadata": {},
   "outputs": [
    {
     "name": "stdout",
     "output_type": "stream",
     "text": [
      "[('B', 5), ('A', 25), ('C', 34)]\n"
     ]
    }
   ],
   "source": [
    "#Sort a list of tuple using lambda\n",
    "a =[(\"A\",25),(\"B\",5),(\"C\",34)]\n",
    "\n",
    "a.sort(key=lambda x:x[1])\n",
    "\n",
    "print(a)"
   ]
  },
  {
   "cell_type": "code",
   "execution_count": 20,
   "id": "19435d0c",
   "metadata": {},
   "outputs": [
    {
     "name": "stdout",
     "output_type": "stream",
     "text": [
      "[10, 20, 30, 40, 50, 52, 52]\n"
     ]
    }
   ],
   "source": [
    "# using lambda function find out even and odd numbers in list\n",
    "\n",
    "l = [10, 20, 30, 40, 43, 50, 51, 52, 52, 53, 87, 89]\n",
    "\n",
    "even = list(filter(lambda x:x%2==0,l))\n",
    "print(even)"
   ]
  },
  {
   "cell_type": "code",
   "execution_count": 4,
   "id": "25876ebe",
   "metadata": {},
   "outputs": [
    {
     "name": "stdout",
     "output_type": "stream",
     "text": [
      "Strings are anagrams\n"
     ]
    }
   ],
   "source": [
    "#WAPP to find all anagrams of a string\n",
    "l1  = \"Ajay\"\n",
    "l2 = \"jayA\"\n",
    "\n",
    "if(sorted(l1)==sorted(l2)):\n",
    "    print(\"Strings are anagrams\")\n",
    "    \n",
    "else:\n",
    "    print(\"String are not anagrams\")\n",
    "    \n",
    "    \n",
    "    \n"
   ]
  },
  {
   "cell_type": "code",
   "execution_count": 5,
   "id": "33457881",
   "metadata": {},
   "outputs": [
    {
     "name": "stdout",
     "output_type": "stream",
     "text": [
      "['jayA']\n"
     ]
    }
   ],
   "source": [
    "from collections import Counter\n",
    "l1 = [\"jay\",\"abcd\",\"bcd\",\"jayA\",\"jaya\"]\n",
    "l2 = \"Ajay\"\n",
    "\n",
    "res = list(filter(lambda x:(Counter(l2)==Counter(x)),l1))\n",
    "\n",
    "print(res)\n",
    "\n"
   ]
  },
  {
   "cell_type": "code",
   "execution_count": 7,
   "id": "401134a5",
   "metadata": {},
   "outputs": [
    {
     "name": "stdout",
     "output_type": "stream",
     "text": [
      "['php', 'w3r', 'python', 'aaaa', 'php', 'aja']\n",
      "['php', 'aaaa', 'php', 'aja']\n"
     ]
    }
   ],
   "source": [
    "#find palindrome using given list\n",
    "\n",
    "text = [\"php\",\"w3r\",\"python\",\"aaaa\",\"php\",\"aja\"]\n",
    "\n",
    "print(text)\n",
    "\n",
    "result = list(filter(lambda x:(x==\"\".join(reversed(x))),text))\n",
    "\n",
    "print(result)"
   ]
  },
  {
   "cell_type": "code",
   "execution_count": 3,
   "id": "ecbed9cf",
   "metadata": {},
   "outputs": [
    {
     "name": "stdout",
     "output_type": "stream",
     "text": [
      "[10, 20, 30]\n",
      "[45, 56, 28]\n",
      "[55, 76, 58]\n"
     ]
    }
   ],
   "source": [
    "#WAPP to add two given list using map and lambda\n",
    "\n",
    "l1 = [10,20,30]\n",
    "l2 = [45,56,28]\n",
    "\n",
    "res = list(map(lambda x,y:x+y,l1,l2))\n",
    "\n",
    "print(l1)\n",
    "print(l2)\n",
    "print(res)"
   ]
  },
  {
   "cell_type": "code",
   "execution_count": 7,
   "id": "8cd57567",
   "metadata": {},
   "outputs": [
    {
     "name": "stdout",
     "output_type": "stream",
     "text": [
      "['Monday', 'Friday']\n"
     ]
    }
   ],
   "source": [
    "#WAPP to filter a given list whether values in the list having length of 6 using lambda\n",
    "\n",
    "l1 = [\"Monday\",\"Tue\",\"Wensday\",\"Thirs\",\"Friday\",\"Saturday\"]\n",
    "\n",
    "res = list(filter(lambda x: len(x)==6,l1))\n",
    "\n",
    "print(res)"
   ]
  },
  {
   "cell_type": "code",
   "execution_count": 9,
   "id": "35268c29",
   "metadata": {},
   "outputs": [
    {
     "name": "stdout",
     "output_type": "stream",
     "text": [
      "[1, 2, -1, -2, 4, 5, 6, -7, -8, 9, -10]\n",
      "[-1, -2, -7, -8, -10, 1, 2, 4, 5, 6, 9]\n"
     ]
    }
   ],
   "source": [
    "l1 =[1,2,-1,-2,4,5,6,-7,-8,9,-10]\n",
    "\n",
    "print(l1)\n",
    "\n",
    "res = [x for x in l1 if x<0]+[i for i in l1 if i>0]\n",
    "print(res)"
   ]
  },
  {
   "cell_type": "code",
   "execution_count": 1,
   "id": "1069dc47",
   "metadata": {},
   "outputs": [
    {
     "name": "stdout",
     "output_type": "stream",
     "text": [
      "[1, 2, 15, 55, 25]\n"
     ]
    }
   ],
   "source": [
    "# WAPP to find (intersection mens same value in list) of two given arrays using lambda\n",
    "\n",
    "a = [1,2,3,4,15,85,96,55,25]\n",
    "b = [14,1,5,2,15,45,55,25]\n",
    "\n",
    "res = list(filter(lambda x:x in a,b))\n",
    "\n",
    "print(res)"
   ]
  },
  {
   "cell_type": "code",
   "execution_count": 2,
   "id": "24b109e9",
   "metadata": {},
   "outputs": [
    {
     "name": "stdout",
     "output_type": "stream",
     "text": [
      "[0, 1, 1, 2, 3, 5, 8, 13, 21, 34]\n"
     ]
    }
   ],
   "source": [
    "# WAPP to create fibonacci series upto n using lambda\n",
    "\n",
    "from functools import reduce\n",
    "\n",
    "fib = lambda n:reduce(lambda x,_: x+[x[-1]+x[-2]],range(n-2),[0,1])\n",
    "\n",
    "print(fib(10))"
   ]
  },
  {
   "cell_type": "code",
   "execution_count": 4,
   "id": "64d1d986",
   "metadata": {},
   "outputs": [
    {
     "name": "stdout",
     "output_type": "stream",
     "text": [
      "True\n"
     ]
    }
   ],
   "source": [
    "#WAPP to check whether a given string is digit or not\n",
    "isnum = lambda q: q.replace(\".\",\"\",1).isdigit()\n",
    "\n",
    "print(isnum(\"10\"))"
   ]
  },
  {
   "cell_type": "code",
   "execution_count": 7,
   "id": "fbb232e4",
   "metadata": {},
   "outputs": [
    {
     "name": "stdout",
     "output_type": "stream",
     "text": [
      "True\n"
     ]
    }
   ],
   "source": [
    "#WAPP to find whether a given string starts with a given chracter using lambda\n",
    "\n",
    "s_w = lambda x:True if x.startswith(\"P\") else False\n",
    "\n",
    "print(s_w(\"Python\"))"
   ]
  },
  {
   "cell_type": "code",
   "execution_count": 9,
   "id": "e4755f72",
   "metadata": {},
   "outputs": [
    {
     "name": "stdout",
     "output_type": "stream",
     "text": [
      "Orignal List: [1, 2, 5, 8, 9, 7, 4, 6]\n",
      "Square List: [1, 4, 25, 64, 81, 49, 16, 36]\n",
      "Cube List [1, 8, 125, 512, 729, 343, 64, 216]\n"
     ]
    }
   ],
   "source": [
    "#WAPP to square and cube every number in given list of integers using lambda\n",
    "\n",
    "\n",
    "num = [1,2,5,8,9,7,4,6]\n",
    "\n",
    "print(\"Orignal List:\",num)\n",
    "\n",
    "res = list(map(lambda x: x**2,num))\n",
    "\n",
    "print(\"Square List:\",res)\n",
    "\n",
    "res1 = list(map(lambda x: x**3,num))\n",
    "print(\"Cube List\",res1)"
   ]
  },
  {
   "cell_type": "code",
   "execution_count": null,
   "id": "208fda12",
   "metadata": {},
   "outputs": [],
   "source": []
  }
 ],
 "metadata": {
  "kernelspec": {
   "display_name": "Python 3 (ipykernel)",
   "language": "python",
   "name": "python3"
  },
  "language_info": {
   "codemirror_mode": {
    "name": "ipython",
    "version": 3
   },
   "file_extension": ".py",
   "mimetype": "text/x-python",
   "name": "python",
   "nbconvert_exporter": "python",
   "pygments_lexer": "ipython3",
   "version": "3.9.7"
  }
 },
 "nbformat": 4,
 "nbformat_minor": 5
}
